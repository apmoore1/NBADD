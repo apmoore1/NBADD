{
  "nbformat": 4,
  "nbformat_minor": 0,
  "metadata": {
    "colab": {
      "name": "AOC Dataset.ipynb",
      "version": "0.3.2",
      "provenance": [],
      "collapsed_sections": [],
      "include_colab_link": true
    },
    "kernelspec": {
      "name": "python3",
      "display_name": "Python 3"
    }
  },
  "cells": [
    {
      "cell_type": "markdown",
      "metadata": {
        "id": "view-in-github",
        "colab_type": "text"
      },
      "source": [
        "<a href=\"https://colab.research.google.com/github/apmoore1/NBADD/blob/master/AOC_Dataset.ipynb\" target=\"_parent\"><img src=\"https://colab.research.google.com/assets/colab-badge.svg\" alt=\"Open In Colab\"/></a>"
      ]
    },
    {
      "metadata": {
        "id": "-zksfiF03Vwu",
        "colab_type": "code",
        "colab": {}
      },
      "cell_type": "code",
      "source": [
        "from collections import defaultdict\n",
        "import csv\n",
        "from typing import List, Tuple, Dict\n",
        "\n",
        "import altair as alt\n",
        "import matplotlib.pyplot as plt\n",
        "import numpy as np\n",
        "import pandas as pd\n",
        "import requests"
      ],
      "execution_count": 0,
      "outputs": []
    },
    {
      "metadata": {
        "id": "zhGMC2yT3cvS",
        "colab_type": "code",
        "colab": {}
      },
      "cell_type": "code",
      "source": [
        "train_data_url = \"https://github.com/UBC-NLP/aoc_id/raw/master/data/train/\"\\\n",
        "                 \"MultiTrain.Shuffled.csv\"\n",
        "val_data_url = \"https://github.com/UBC-NLP/aoc_id/raw/master/data/dev/\"\\\n",
        "               \"MultiDev.csv\"\n",
        "test_data_url = \"https://github.com/UBC-NLP/aoc_id/raw/master/data/test/\"\\\n",
        "                \"MultiTest.csv\""
      ],
      "execution_count": 0,
      "outputs": []
    },
    {
      "metadata": {
        "id": "WDFf2Uen7f0h",
        "colab_type": "code",
        "colab": {}
      },
      "cell_type": "code",
      "source": [
        "def get_data(csv_url: str) -> List[Tuple[str, str]]:\n",
        "  '''\n",
        "  Downloads the data from the given URL address and returns it as \n",
        "  a List of Tuples where each item in the List is a sample \n",
        "  containing [text, label].\n",
        "  '''\n",
        "  response = requests.get(csv_url)\n",
        "  response.raise_for_status()\n",
        "  assert response.encoding == 'utf-8', 'Should be UTF-8 encoding'\n",
        "  \n",
        "  csv_lines = response.text.split('\\n')\n",
        "  csv_reader = csv.reader(csv_lines)\n",
        "  \n",
        "  data: List[Tuple[str, str]] = []\n",
        "  for line_index, csv_line in enumerate(csv_reader):\n",
        "    if line_index == 0 or not csv_line:\n",
        "      continue\n",
        "    assert len(csv_line) == 3, f'{csv_line} {line_index}'\n",
        "    data_index, label, text = csv_line\n",
        "    data.append((text, label))\n",
        "  return data\n",
        "\n",
        "def class_breakdown(aoc_data: List[Tuple[str, str]],\n",
        "                    expected_num_classes: int = 4) -> Dict[str, int]:\n",
        "  '''\n",
        "  Returns the number of samples per class given AOC data\n",
        "  '''\n",
        "  label_count = defaultdict(lambda: 0)\n",
        "  for text, label in aoc_data:\n",
        "    label_count[label] += 1\n",
        "  label_error = (f'Number of labels found {label_count.keys()} more'\n",
        "                 f' than expected {expected_num_classes}')\n",
        "  assert len(label_count) == expected_num_classes, label_error\n",
        "  return label_count\n",
        "\n",
        "def pandas_class_breakdown(aoc_data: List[Tuple[str, str]]) -> pd.Series:\n",
        "  '''\n",
        "  Returns the number of samples per class given AOC Data as a pandas Series \n",
        "  where the Series index is the class label\n",
        "  '''\n",
        "  label_count = defaultdict(lambda: 0)\n",
        "  for text, label in aoc_data:\n",
        "    label_count[label] += 1\n",
        "  return pd.Series(label_count)\n",
        "\n",
        "def samples_per_class(aoc_data: List[Tuple[str, str]], \n",
        "                      class_order: List[str]) -> List[int]:\n",
        "  '''\n",
        "  Returns the number of samples in each class that is specified in \n",
        "  the class_order.\n",
        "  '''\n",
        "  num_per_class = class_breakdown(aoc_data)\n",
        "  return [num_per_class[_class] for _class in class_order]\n",
        "\n",
        "def check_same_classes(*datasets) -> bool:\n",
        "  '''\n",
        "  Given a list of AOC datasets check that all of them have the same \n",
        "  class labels\n",
        "  '''\n",
        "  classes = set()\n",
        "  for index, dataset in enumerate(datasets):\n",
        "    dataset_classes = list(class_breakdown(dataset).keys())\n",
        "    dataset_classes = set(dataset_classes)\n",
        "    if index == 0:\n",
        "      classes = set(dataset_classes)\n",
        "    else:\n",
        "      if classes != dataset_classes:\n",
        "        return False\n",
        "  return True\n",
        "      \n",
        "def remove_no_text_samples(aoc_data: List[Tuple[str, str]]\n",
        "                           ) -> List[Tuple[str, str]]:\n",
        "  '''\n",
        "  Returns the same list of data given but without samples that have no text.\n",
        "  '''\n",
        "  processed_data = []\n",
        "  for text, label in aoc_data:\n",
        "    if text.strip():\n",
        "      processed_data.append((text, label))\n",
        "  return processed_data\n",
        "    \n",
        "def plot_label_dist(train_data: List[Tuple[str, str]], \n",
        "                    val_data: List[Tuple[str, str]], \n",
        "                    test_data: List[Tuple[str, str]]) -> None:\n",
        "  '''\n",
        "  Given the train, validation, and test datasets from the AOC data it creates \n",
        "  two stacked bar chart showing the label distribution for each of the datasets.\n",
        "  \n",
        "  The first bar chart shows the raw sample distribution for the labels and the \n",
        "  second the normalised distribution with respect to each dataset.\n",
        "  '''\n",
        "  length_datasets = np.array([len(train_data), len(val_data), len(test_data)])\n",
        "  normalizer = lambda x: x / length_datasets\n",
        "\n",
        "  train_samples_per_class = samples_per_class(train_data, aoc_classes)\n",
        "  val_samples_per_class = samples_per_class(val_data, aoc_classes)\n",
        "  test_samples_per_class = samples_per_class(test_data, aoc_classes)\n",
        "  dataset_samples_per_class = [train_samples_per_class, val_samples_per_class,\n",
        "                               test_samples_per_class]\n",
        "\n",
        "  egyptian_samples = np.array([dataset[0] \n",
        "                               for dataset in dataset_samples_per_class])\n",
        "  msa_samples = np.array([dataset[3] \n",
        "                          for dataset in dataset_samples_per_class]) \n",
        "  gulf_samples = np.array([dataset[1] \n",
        "                           for dataset in dataset_samples_per_class])\n",
        "  levantine_samples = np.array([dataset[2] \n",
        "                                for dataset in dataset_samples_per_class])\n",
        "  \n",
        "  samples = [egyptian_samples, msa_samples, gulf_samples, levantine_samples]\n",
        "  norm_samples = [normalizer(dataset_samples) for dataset_samples in samples]\n",
        "  all_samples = [samples, norm_samples]\n",
        "  \n",
        "  width = 0.35\n",
        "  ind = [0, 1, 2]\n",
        "  bar_containers = []\n",
        "  fig, axs = plt.subplots(1, 2, figsize=(10, 5))\n",
        "  for ax_index, ax in enumerate(axs):\n",
        "    dataset_samples = all_samples[ax_index]\n",
        "    for sample_index, samples in enumerate(dataset_samples):\n",
        "      bar_container = ax.bar(ind, samples, width, \n",
        "                             bottom=sum(dataset_samples[0:sample_index]))\n",
        "      bar_containers.append(bar_container[0])\n",
        "\n",
        "    if ax_index == 1:\n",
        "      ax.set_ylabel('Normalised number of samples')\n",
        "      ax.set_title('Normalised Label Distribution Across the Datasets')\n",
        "    else:\n",
        "      ax.set_ylabel('Number of samples')\n",
        "      ax.set_title('Label Distribution Across the Datasets')\n",
        "    ax.set_xticks([0,1,2])\n",
        "    ax.set_xticklabels(['Train', 'Validation', 'Test'])\n",
        "    if ax_index == 0:\n",
        "      ax.legend(bar_containers, ['Egyptian', 'MSA', 'Gulf', 'Levantine'])\n",
        "  \n",
        "def altair_aoc_data(aoc_datasets) -> pd.DataFrame:\n",
        "  dataset_names = []\n",
        "  labels = []\n",
        "  counts = []\n",
        "  for dataset_name, dataset in aoc_datasets.items():\n",
        "    label_count = defaultdict(lambda: 0)\n",
        "    for text, label in dataset:\n",
        "      label_count[label] += 1\n",
        "    for label, count in label_count.items():\n",
        "      labels.append(label)\n",
        "      counts.append(count)\n",
        "      dataset_names.append(dataset_name)\n",
        "  return pd.DataFrame({'Dataset': dataset_names, 'Label': labels, \n",
        "                       'Sample Count': counts})\n",
        "\n",
        "def alt_norm_break(aoc_data: pd.DataFrame) -> pd.DataFrame:\n",
        "  total_per_dataset_counts = aoc_data.groupby(['Dataset'])['Sample Count'].sum()\n",
        "  aoc_data = aoc_data.set_index(['Dataset', 'Label'])\n",
        "  sample_counts = pd.Series(aoc_data['Sample Count'].values, \n",
        "                            index=aoc_data.index)\n",
        "  norm_sample_counts = sample_counts / total_per_dataset_counts\n",
        "  norm_sample_counts.index = aoc_data.index\n",
        "  aoc_data['Sample Count'] = norm_sample_counts\n",
        "  aoc_data = aoc_data.reset_index()\n",
        "  return aoc_data\n",
        "  \n",
        "\n",
        "def create_label_chart(aoc_data: pd.DataFrame):\n",
        "  return alt.Chart(aoc_data).mark_bar().encode(\n",
        "    alt.X('Dataset', sort=['Train', 'Val', 'Test']),\n",
        "    y='Sample Count',\n",
        "    color='Label',\n",
        "    tooltip=['Sample Count', 'Label']\n",
        "  ).interactive()"
      ],
      "execution_count": 0,
      "outputs": []
    },
    {
      "metadata": {
        "id": "E5ZdxwB2ZBGV",
        "colab_type": "text"
      },
      "cell_type": "markdown",
      "source": [
        "# [Arabic Online Commentary (AOC)](https://aclanthology.coli.uni-saarland.de/papers/P11-2007/p11-2007) dataset distribution.\n",
        "\n",
        "This notebook will show the distribution of the AOC dataset used in the following [paper](https://aclanthology.coli.uni-saarland.de/papers/W18-3930/w18-3930). We will then show the distribution of the dataset after pre-processing by removing samples that contain no Text but does have an associated label. This final pre-prcoessed dataset will then be used in all of our subsequent experiments.\n",
        "\n",
        "## Distribution of the AOC dataset"
      ]
    },
    {
      "metadata": {
        "id": "2zHHBowK-vuu",
        "colab_type": "code",
        "outputId": "2211a00d-15d9-4772-a664-0c99ef0b4fd6",
        "colab": {
          "base_uri": "https://localhost:8080/",
          "height": 34
        }
      },
      "cell_type": "code",
      "source": [
        "train_data = get_data(train_data_url)\n",
        "val_data = get_data(val_data_url)\n",
        "test_data = get_data(test_data_url)\n",
        "# Ensure all the data have the same class names\n",
        "assert check_same_classes(train_data, val_data, test_data)\n",
        "# Classes in the dataset\n",
        "aoc_classes = list(class_breakdown(test_data).keys())\n",
        "aoc_classes"
      ],
      "execution_count": 0,
      "outputs": [
        {
          "output_type": "execute_result",
          "data": {
            "text/plain": [
              "['DIAL_EGY', 'DIAL_GLF', 'DIAL_LEV', 'MSA']"
            ]
          },
          "metadata": {
            "tags": []
          },
          "execution_count": 4
        }
      ]
    },
    {
      "metadata": {
        "id": "MEh02mNHyjo3",
        "colab_type": "code",
        "outputId": "e3dc9909-a123-4ba8-bc15-7b188d622c7d",
        "colab": {
          "base_uri": "https://localhost:8080/",
          "height": 405
        }
      },
      "cell_type": "code",
      "source": [
        "data_breakdown = altair_aoc_data({'Train': train_data, 'Val': val_data, \n",
        "                                  'Test': test_data})\n",
        "norm_data_breakdown = alt_norm_break(data_breakdown)\n",
        "\n",
        "title = 'Label Distribution Across the Datasets'\n",
        "label_chart = create_label_chart(data_breakdown)\\\n",
        "              .properties(height=300, width=200, title=title)\n",
        "\n",
        "norm_title = 'Normalised Label Distribution Across the Datasets'\n",
        "norm_label_chart = create_label_chart(norm_data_breakdown)\\\n",
        "                   .properties(height=300, width=200, title=norm_title)\n",
        "label_chart | norm_label_chart"
      ],
      "execution_count": 0,
      "outputs": [
        {
          "output_type": "execute_result",
          "data": {
            "text/plain": [
              "HConcatChart({\n",
              "  hconcat: [Chart({\n",
              "    data:    Dataset     Label  Sample Count\n",
              "    0    Train       MSA         50845\n",
              "    1    Train  DIAL_LEV          9081\n",
              "    2    Train  DIAL_GLF         16593\n",
              "    3    Train  DIAL_EGY         10022\n",
              "    4      Val  DIAL_EGY          1253\n",
              "    5      Val  DIAL_GLF          2075\n",
              "    6      Val  DIAL_LEV          1136\n",
              "    7      Val       MSA          6356\n",
              "    8     Test  DIAL_EGY          1252\n",
              "    9     Test  DIAL_GLF          2073\n",
              "    10    Test  DIAL_LEV          1133\n",
              "    11    Test       MSA          6354,\n",
              "    encoding: EncodingWithFacet({\n",
              "      color: Color({\n",
              "        shorthand: 'Label'\n",
              "      }),\n",
              "      tooltip: [Tooltip({\n",
              "        shorthand: 'Sample Count'\n",
              "      }), Tooltip({\n",
              "        shorthand: 'Label'\n",
              "      })],\n",
              "      x: X({\n",
              "        shorthand: 'Dataset',\n",
              "        sort: ['Train', 'Val', 'Test']\n",
              "      }),\n",
              "      y: Y({\n",
              "        shorthand: 'Sample Count'\n",
              "      })\n",
              "    }),\n",
              "    height: 300,\n",
              "    mark: 'bar',\n",
              "    selection: SelectionMapping({\n",
              "      selector001: SelectionDef({\n",
              "        bind: 'scales',\n",
              "        encodings: ['x', 'y'],\n",
              "        type: 'interval'\n",
              "      })\n",
              "    }),\n",
              "    title: 'Label Distribution Across the Datasets',\n",
              "    width: 200\n",
              "  }), Chart({\n",
              "    data:    Dataset     Label  Sample Count\n",
              "    0    Train       MSA      0.587525\n",
              "    1    Train  DIAL_LEV      0.104933\n",
              "    2    Train  DIAL_GLF      0.191736\n",
              "    3    Train  DIAL_EGY      0.115806\n",
              "    4      Val  DIAL_EGY      0.115804\n",
              "    5      Val  DIAL_GLF      0.191774\n",
              "    6      Val  DIAL_LEV      0.104991\n",
              "    7      Val       MSA      0.587431\n",
              "    8     Test  DIAL_EGY      0.115797\n",
              "    9     Test  DIAL_GLF      0.191731\n",
              "    10    Test  DIAL_LEV      0.104791\n",
              "    11    Test       MSA      0.587680,\n",
              "    encoding: EncodingWithFacet({\n",
              "      color: Color({\n",
              "        shorthand: 'Label'\n",
              "      }),\n",
              "      tooltip: [Tooltip({\n",
              "        shorthand: 'Sample Count'\n",
              "      }), Tooltip({\n",
              "        shorthand: 'Label'\n",
              "      })],\n",
              "      x: X({\n",
              "        shorthand: 'Dataset',\n",
              "        sort: ['Train', 'Val', 'Test']\n",
              "      }),\n",
              "      y: Y({\n",
              "        shorthand: 'Sample Count'\n",
              "      })\n",
              "    }),\n",
              "    height: 300,\n",
              "    mark: 'bar',\n",
              "    selection: SelectionMapping({\n",
              "      selector002: SelectionDef({\n",
              "        bind: 'scales',\n",
              "        encodings: ['x', 'y'],\n",
              "        type: 'interval'\n",
              "      })\n",
              "    }),\n",
              "    title: 'Normalised Label Distribution Across the Datasets',\n",
              "    width: 200\n",
              "  })]\n",
              "})"
            ],
            "text/html": [
              "<!DOCTYPE html>\n",
              "<html>\n",
              "<head>\n",
              "  <style>\n",
              "    .vega-actions a {\n",
              "        margin-right: 12px;\n",
              "        color: #757575;\n",
              "        font-weight: normal;\n",
              "        font-size: 13px;\n",
              "    }\n",
              "    .error {\n",
              "        color: red;\n",
              "    }\n",
              "  </style>\n",
              "  <script type=\"text/javascript\" src=\"https://cdn.jsdelivr.net/npm//vega@4\"></script>\n",
              "  <script type=\"text/javascript\" src=\"https://cdn.jsdelivr.net/npm//vega-lite@2.6.0\"></script>\n",
              "  <script type=\"text/javascript\" src=\"https://cdn.jsdelivr.net/npm//vega-embed@3\"></script>\n",
              "</head>\n",
              "<body>\n",
              "  <div id=\"altair-viz\"></div>\n",
              "  <script>\n",
              "      var spec = {\"config\": {\"view\": {\"width\": 400, \"height\": 300}}, \"hconcat\": [{\"data\": {\"name\": \"data-ba0ac77eb7c4910adf5638bbd8b123ee\"}, \"mark\": \"bar\", \"encoding\": {\"color\": {\"type\": \"nominal\", \"field\": \"Label\"}, \"tooltip\": [{\"type\": \"quantitative\", \"field\": \"Sample Count\"}, {\"type\": \"nominal\", \"field\": \"Label\"}], \"x\": {\"type\": \"nominal\", \"field\": \"Dataset\", \"sort\": [\"Train\", \"Val\", \"Test\"]}, \"y\": {\"type\": \"quantitative\", \"field\": \"Sample Count\"}}, \"height\": 300, \"selection\": {\"selector001\": {\"type\": \"interval\", \"bind\": \"scales\", \"encodings\": [\"x\", \"y\"]}}, \"title\": \"Label Distribution Across the Datasets\", \"width\": 200}, {\"data\": {\"name\": \"data-a10a3731c915d0d6f4fe2f92dd3f1427\"}, \"mark\": \"bar\", \"encoding\": {\"color\": {\"type\": \"nominal\", \"field\": \"Label\"}, \"tooltip\": [{\"type\": \"quantitative\", \"field\": \"Sample Count\"}, {\"type\": \"nominal\", \"field\": \"Label\"}], \"x\": {\"type\": \"nominal\", \"field\": \"Dataset\", \"sort\": [\"Train\", \"Val\", \"Test\"]}, \"y\": {\"type\": \"quantitative\", \"field\": \"Sample Count\"}}, \"height\": 300, \"selection\": {\"selector002\": {\"type\": \"interval\", \"bind\": \"scales\", \"encodings\": [\"x\", \"y\"]}}, \"title\": \"Normalised Label Distribution Across the Datasets\", \"width\": 200}], \"$schema\": \"https://vega.github.io/schema/vega-lite/v2.6.0.json\", \"datasets\": {\"data-ba0ac77eb7c4910adf5638bbd8b123ee\": [{\"Dataset\": \"Train\", \"Label\": \"MSA\", \"Sample Count\": 50845}, {\"Dataset\": \"Train\", \"Label\": \"DIAL_LEV\", \"Sample Count\": 9081}, {\"Dataset\": \"Train\", \"Label\": \"DIAL_GLF\", \"Sample Count\": 16593}, {\"Dataset\": \"Train\", \"Label\": \"DIAL_EGY\", \"Sample Count\": 10022}, {\"Dataset\": \"Val\", \"Label\": \"DIAL_EGY\", \"Sample Count\": 1253}, {\"Dataset\": \"Val\", \"Label\": \"DIAL_GLF\", \"Sample Count\": 2075}, {\"Dataset\": \"Val\", \"Label\": \"DIAL_LEV\", \"Sample Count\": 1136}, {\"Dataset\": \"Val\", \"Label\": \"MSA\", \"Sample Count\": 6356}, {\"Dataset\": \"Test\", \"Label\": \"DIAL_EGY\", \"Sample Count\": 1252}, {\"Dataset\": \"Test\", \"Label\": \"DIAL_GLF\", \"Sample Count\": 2073}, {\"Dataset\": \"Test\", \"Label\": \"DIAL_LEV\", \"Sample Count\": 1133}, {\"Dataset\": \"Test\", \"Label\": \"MSA\", \"Sample Count\": 6354}], \"data-a10a3731c915d0d6f4fe2f92dd3f1427\": [{\"Dataset\": \"Train\", \"Label\": \"MSA\", \"Sample Count\": 0.5875249881559029}, {\"Dataset\": \"Train\", \"Label\": \"DIAL_LEV\", \"Sample Count\": 0.10493292196762229}, {\"Dataset\": \"Train\", \"Label\": \"DIAL_GLF\", \"Sample Count\": 0.19173570908586682}, {\"Dataset\": \"Train\", \"Label\": \"DIAL_EGY\", \"Sample Count\": 0.11580638079060793}, {\"Dataset\": \"Val\", \"Label\": \"DIAL_EGY\", \"Sample Count\": 0.11580406654343808}, {\"Dataset\": \"Val\", \"Label\": \"DIAL_GLF\", \"Sample Count\": 0.19177449168207025}, {\"Dataset\": \"Val\", \"Label\": \"DIAL_LEV\", \"Sample Count\": 0.10499075785582256}, {\"Dataset\": \"Val\", \"Label\": \"MSA\", \"Sample Count\": 0.5874306839186691}, {\"Dataset\": \"Test\", \"Label\": \"DIAL_EGY\", \"Sample Count\": 0.11579726230114687}, {\"Dataset\": \"Test\", \"Label\": \"DIAL_GLF\", \"Sample Count\": 0.19173140954495005}, {\"Dataset\": \"Test\", \"Label\": \"DIAL_LEV\", \"Sample Count\": 0.10479097299297077}, {\"Dataset\": \"Test\", \"Label\": \"MSA\", \"Sample Count\": 0.5876803551609323}]}};\n",
              "      var embedOpt = {\"mode\": \"vega-lite\"};\n",
              "\n",
              "      function showError(el, error){\n",
              "          el.innerHTML = ('<div class=\"error\" style=\"color:red;\">'\n",
              "                          + '<p>JavaScript Error: ' + error.message + '</p>'\n",
              "                          + \"<p>This usually means there's a typo in your chart specification. \"\n",
              "                          + \"See the javascript console for the full traceback.</p>\"\n",
              "                          + '</div>');\n",
              "          throw error;\n",
              "      }\n",
              "      const el = document.getElementById('altair-viz');\n",
              "      vegaEmbed(\"#altair-viz\", spec, embedOpt)\n",
              "        .catch(error => showError(el, error));\n",
              "\n",
              "  </script>\n",
              "</body>\n",
              "</html>"
            ]
          },
          "metadata": {
            "tags": []
          },
          "execution_count": 5
        }
      ]
    },
    {
      "metadata": {
        "id": "efSM2lNmidFl",
        "colab_type": "text"
      },
      "cell_type": "markdown",
      "source": [
        "Above is an interactive chart where if you hover over the bars it will display the sample count for each label distribution for each dataset. Below is a static graph with no interaction. These were made to compare the matplotlib and the altair libraries."
      ]
    },
    {
      "metadata": {
        "id": "zWockkYQ4PAc",
        "colab_type": "code",
        "outputId": "08df693f-a4e2-4d9f-b475-695c51289dc3",
        "colab": {
          "base_uri": "https://localhost:8080/",
          "height": 335
        }
      },
      "cell_type": "code",
      "source": [
        "plot_label_dist(train_data, val_data, test_data)"
      ],
      "execution_count": 0,
      "outputs": [
        {
          "output_type": "display_data",
          "data": {
            "image/png": "[encoded data removed]",
            "text/plain": [
              "<matplotlib.figure.Figure at 0x7feda60a8cf8>"
            ]
          },
          "metadata": {
            "tags": []
          }
        }
      ]
    },
    {
      "metadata": {
        "id": "UChlujQV9pY5",
        "colab_type": "code",
        "outputId": "e56d7fbe-247a-48ec-b52a-24209fbb800e",
        "colab": {
          "base_uri": "https://localhost:8080/",
          "height": 204
        }
      },
      "cell_type": "code",
      "source": [
        "train_breakdown = pandas_class_breakdown(train_data)\n",
        "val_breakdown = pandas_class_breakdown(val_data)\n",
        "test_breakdown = pandas_class_breakdown(test_data)\n",
        "dataset_breakdowns = pd.concat((train_breakdown, val_breakdown, test_breakdown), \n",
        "                               1, keys=['Train', 'Val', 'Test'])\n",
        "total = pd.Series(dataset_breakdowns.sum(), name='Total')\n",
        "total_dataset_breakdowns = dataset_breakdowns.T.join(total).T\n",
        "total_dataset_breakdowns"
      ],
      "execution_count": 0,
      "outputs": [
        {
          "output_type": "execute_result",
          "data": {
            "text/html": [
              "<div>\n",
              "<style scoped>\n",
              "    .dataframe tbody tr th:only-of-type {\n",
              "        vertical-align: middle;\n",
              "    }\n",
              "\n",
              "    .dataframe tbody tr th {\n",
              "        vertical-align: top;\n",
              "    }\n",
              "\n",
              "    .dataframe thead th {\n",
              "        text-align: right;\n",
              "    }\n",
              "</style>\n",
              "<table border=\"1\" class=\"dataframe\">\n",
              "  <thead>\n",
              "    <tr style=\"text-align: right;\">\n",
              "      <th></th>\n",
              "      <th>Train</th>\n",
              "      <th>Val</th>\n",
              "      <th>Test</th>\n",
              "    </tr>\n",
              "  </thead>\n",
              "  <tbody>\n",
              "    <tr>\n",
              "      <th>DIAL_EGY</th>\n",
              "      <td>10022</td>\n",
              "      <td>1253</td>\n",
              "      <td>1252</td>\n",
              "    </tr>\n",
              "    <tr>\n",
              "      <th>DIAL_GLF</th>\n",
              "      <td>16593</td>\n",
              "      <td>2075</td>\n",
              "      <td>2073</td>\n",
              "    </tr>\n",
              "    <tr>\n",
              "      <th>DIAL_LEV</th>\n",
              "      <td>9081</td>\n",
              "      <td>1136</td>\n",
              "      <td>1133</td>\n",
              "    </tr>\n",
              "    <tr>\n",
              "      <th>MSA</th>\n",
              "      <td>50845</td>\n",
              "      <td>6356</td>\n",
              "      <td>6354</td>\n",
              "    </tr>\n",
              "    <tr>\n",
              "      <th>Total</th>\n",
              "      <td>86541</td>\n",
              "      <td>10820</td>\n",
              "      <td>10812</td>\n",
              "    </tr>\n",
              "  </tbody>\n",
              "</table>\n",
              "</div>"
            ],
            "text/plain": [
              "          Train    Val   Test\n",
              "DIAL_EGY  10022   1253   1252\n",
              "DIAL_GLF  16593   2075   2073\n",
              "DIAL_LEV   9081   1136   1133\n",
              "MSA       50845   6356   6354\n",
              "Total     86541  10820  10812"
            ]
          },
          "metadata": {
            "tags": []
          },
          "execution_count": 7
        }
      ]
    },
    {
      "metadata": {
        "id": "rX8XyzsJH7lt",
        "colab_type": "text"
      },
      "cell_type": "markdown",
      "source": [
        "As we can see the vast majority of the dataset is made up of the MSA dialect then followed by Gulf, Egyptian, and Levantine. Now we shall see how this is affected when samples are removed due to not having any text within the sample and thus should not be within the dataset.\n",
        "\n",
        "## Removal of Non-Text samples"
      ]
    },
    {
      "metadata": {
        "id": "jg4HSeBAKoaJ",
        "colab_type": "code",
        "colab": {}
      },
      "cell_type": "code",
      "source": [
        "pro_train_data = remove_no_text_samples(train_data)\n",
        "pro_val_data = remove_no_text_samples(val_data)\n",
        "pro_test_data = remove_no_text_samples(test_data)\n",
        "# Ensure all the data have the same class names\n",
        "assert check_same_classes(pro_train_data, pro_test_data, pro_test_data)"
      ],
      "execution_count": 0,
      "outputs": []
    },
    {
      "metadata": {
        "id": "8z8A3Sb7ogN3",
        "colab_type": "code",
        "outputId": "6e27d313-f0dd-430f-d40a-052a5939a197",
        "colab": {
          "base_uri": "https://localhost:8080/",
          "height": 405
        }
      },
      "cell_type": "code",
      "source": [
        "pro_data_breakdown = altair_aoc_data({'Train': pro_train_data, \n",
        "                                      'Val': pro_val_data, \n",
        "                                      'Test': pro_test_data})\n",
        "pro_norm_data_breakdown = alt_norm_break(pro_data_breakdown)\n",
        "\n",
        "pro_label_chart = create_label_chart(pro_data_breakdown)\\\n",
        "                  .properties(height=300, width=200, \n",
        "                              title='Processed ' + title)\n",
        "\n",
        "pro_norm_label_chart = create_label_chart(pro_norm_data_breakdown)\\\n",
        "                       .properties(height=300, width=200, \n",
        "                                   title= 'Processed ' + norm_title)\n",
        "pro_label_chart | pro_norm_label_chart"
      ],
      "execution_count": 0,
      "outputs": [
        {
          "output_type": "execute_result",
          "data": {
            "text/plain": [
              "HConcatChart({\n",
              "  hconcat: [Chart({\n",
              "    data:    Dataset     Label  Sample Count\n",
              "    0    Train       MSA         50153\n",
              "    1    Train  DIAL_LEV          9041\n",
              "    2    Train  DIAL_GLF         16494\n",
              "    3    Train  DIAL_EGY          9970\n",
              "    4      Val  DIAL_EGY          1252\n",
              "    5      Val  DIAL_GLF          2069\n",
              "    6      Val  DIAL_LEV          1130\n",
              "    7      Val       MSA          6229\n",
              "    8     Test  DIAL_EGY          1243\n",
              "    9     Test  DIAL_GLF          2066\n",
              "    10    Test  DIAL_LEV          1126\n",
              "    11    Test       MSA          6269,\n",
              "    encoding: EncodingWithFacet({\n",
              "      color: Color({\n",
              "        shorthand: 'Label'\n",
              "      }),\n",
              "      tooltip: [Tooltip({\n",
              "        shorthand: 'Sample Count'\n",
              "      }), Tooltip({\n",
              "        shorthand: 'Label'\n",
              "      })],\n",
              "      x: X({\n",
              "        shorthand: 'Dataset',\n",
              "        sort: ['Train', 'Val', 'Test']\n",
              "      }),\n",
              "      y: Y({\n",
              "        shorthand: 'Sample Count'\n",
              "      })\n",
              "    }),\n",
              "    height: 300,\n",
              "    mark: 'bar',\n",
              "    selection: SelectionMapping({\n",
              "      selector003: SelectionDef({\n",
              "        bind: 'scales',\n",
              "        encodings: ['x', 'y'],\n",
              "        type: 'interval'\n",
              "      })\n",
              "    }),\n",
              "    title: 'Processed Label Distribution Across the Datasets',\n",
              "    width: 200\n",
              "  }), Chart({\n",
              "    data:    Dataset     Label  Sample Count\n",
              "    0    Train       MSA      0.585503\n",
              "    1    Train  DIAL_LEV      0.105548\n",
              "    2    Train  DIAL_GLF      0.192556\n",
              "    3    Train  DIAL_EGY      0.116393\n",
              "    4      Val  DIAL_EGY      0.117228\n",
              "    5      Val  DIAL_GLF      0.193727\n",
              "    6      Val  DIAL_LEV      0.105805\n",
              "    7      Val       MSA      0.583240\n",
              "    8     Test  DIAL_EGY      0.116125\n",
              "    9     Test  DIAL_GLF      0.193012\n",
              "    10    Test  DIAL_LEV      0.105194\n",
              "    11    Test       MSA      0.585669,\n",
              "    encoding: EncodingWithFacet({\n",
              "      color: Color({\n",
              "        shorthand: 'Label'\n",
              "      }),\n",
              "      tooltip: [Tooltip({\n",
              "        shorthand: 'Sample Count'\n",
              "      }), Tooltip({\n",
              "        shorthand: 'Label'\n",
              "      })],\n",
              "      x: X({\n",
              "        shorthand: 'Dataset',\n",
              "        sort: ['Train', 'Val', 'Test']\n",
              "      }),\n",
              "      y: Y({\n",
              "        shorthand: 'Sample Count'\n",
              "      })\n",
              "    }),\n",
              "    height: 300,\n",
              "    mark: 'bar',\n",
              "    selection: SelectionMapping({\n",
              "      selector004: SelectionDef({\n",
              "        bind: 'scales',\n",
              "        encodings: ['x', 'y'],\n",
              "        type: 'interval'\n",
              "      })\n",
              "    }),\n",
              "    title: 'Processed Normalised Label Distribution Across the Datasets',\n",
              "    width: 200\n",
              "  })]\n",
              "})"
            ],
            "text/html": [
              "<!DOCTYPE html>\n",
              "<html>\n",
              "<head>\n",
              "  <style>\n",
              "    .vega-actions a {\n",
              "        margin-right: 12px;\n",
              "        color: #757575;\n",
              "        font-weight: normal;\n",
              "        font-size: 13px;\n",
              "    }\n",
              "    .error {\n",
              "        color: red;\n",
              "    }\n",
              "  </style>\n",
              "  <script type=\"text/javascript\" src=\"https://cdn.jsdelivr.net/npm//vega@4\"></script>\n",
              "  <script type=\"text/javascript\" src=\"https://cdn.jsdelivr.net/npm//vega-lite@2.6.0\"></script>\n",
              "  <script type=\"text/javascript\" src=\"https://cdn.jsdelivr.net/npm//vega-embed@3\"></script>\n",
              "</head>\n",
              "<body>\n",
              "  <div id=\"altair-viz\"></div>\n",
              "  <script>\n",
              "      var spec = {\"config\": {\"view\": {\"width\": 400, \"height\": 300}}, \"hconcat\": [{\"data\": {\"name\": \"data-759b07e9376ad7422461eb83781d3747\"}, \"mark\": \"bar\", \"encoding\": {\"color\": {\"type\": \"nominal\", \"field\": \"Label\"}, \"tooltip\": [{\"type\": \"quantitative\", \"field\": \"Sample Count\"}, {\"type\": \"nominal\", \"field\": \"Label\"}], \"x\": {\"type\": \"nominal\", \"field\": \"Dataset\", \"sort\": [\"Train\", \"Val\", \"Test\"]}, \"y\": {\"type\": \"quantitative\", \"field\": \"Sample Count\"}}, \"height\": 300, \"selection\": {\"selector003\": {\"type\": \"interval\", \"bind\": \"scales\", \"encodings\": [\"x\", \"y\"]}}, \"title\": \"Processed Label Distribution Across the Datasets\", \"width\": 200}, {\"data\": {\"name\": \"data-b3ebd5f5d3934072d63fbb308f477fb8\"}, \"mark\": \"bar\", \"encoding\": {\"color\": {\"type\": \"nominal\", \"field\": \"Label\"}, \"tooltip\": [{\"type\": \"quantitative\", \"field\": \"Sample Count\"}, {\"type\": \"nominal\", \"field\": \"Label\"}], \"x\": {\"type\": \"nominal\", \"field\": \"Dataset\", \"sort\": [\"Train\", \"Val\", \"Test\"]}, \"y\": {\"type\": \"quantitative\", \"field\": \"Sample Count\"}}, \"height\": 300, \"selection\": {\"selector004\": {\"type\": \"interval\", \"bind\": \"scales\", \"encodings\": [\"x\", \"y\"]}}, \"title\": \"Processed Normalised Label Distribution Across the Datasets\", \"width\": 200}], \"$schema\": \"https://vega.github.io/schema/vega-lite/v2.6.0.json\", \"datasets\": {\"data-759b07e9376ad7422461eb83781d3747\": [{\"Dataset\": \"Train\", \"Label\": \"MSA\", \"Sample Count\": 50153}, {\"Dataset\": \"Train\", \"Label\": \"DIAL_LEV\", \"Sample Count\": 9041}, {\"Dataset\": \"Train\", \"Label\": \"DIAL_GLF\", \"Sample Count\": 16494}, {\"Dataset\": \"Train\", \"Label\": \"DIAL_EGY\", \"Sample Count\": 9970}, {\"Dataset\": \"Val\", \"Label\": \"DIAL_EGY\", \"Sample Count\": 1252}, {\"Dataset\": \"Val\", \"Label\": \"DIAL_GLF\", \"Sample Count\": 2069}, {\"Dataset\": \"Val\", \"Label\": \"DIAL_LEV\", \"Sample Count\": 1130}, {\"Dataset\": \"Val\", \"Label\": \"MSA\", \"Sample Count\": 6229}, {\"Dataset\": \"Test\", \"Label\": \"DIAL_EGY\", \"Sample Count\": 1243}, {\"Dataset\": \"Test\", \"Label\": \"DIAL_GLF\", \"Sample Count\": 2066}, {\"Dataset\": \"Test\", \"Label\": \"DIAL_LEV\", \"Sample Count\": 1126}, {\"Dataset\": \"Test\", \"Label\": \"MSA\", \"Sample Count\": 6269}], \"data-b3ebd5f5d3934072d63fbb308f477fb8\": [{\"Dataset\": \"Train\", \"Label\": \"MSA\", \"Sample Count\": 0.5855028135142076}, {\"Dataset\": \"Train\", \"Label\": \"DIAL_LEV\", \"Sample Count\": 0.10554764295220528}, {\"Dataset\": \"Train\", \"Label\": \"DIAL_GLF\", \"Sample Count\": 0.19255644539914543}, {\"Dataset\": \"Train\", \"Label\": \"DIAL_EGY\", \"Sample Count\": 0.11639309813444161}, {\"Dataset\": \"Val\", \"Label\": \"DIAL_EGY\", \"Sample Count\": 0.11722846441947565}, {\"Dataset\": \"Val\", \"Label\": \"DIAL_GLF\", \"Sample Count\": 0.19372659176029963}, {\"Dataset\": \"Val\", \"Label\": \"DIAL_LEV\", \"Sample Count\": 0.10580524344569288}, {\"Dataset\": \"Val\", \"Label\": \"MSA\", \"Sample Count\": 0.5832397003745319}, {\"Dataset\": \"Test\", \"Label\": \"DIAL_EGY\", \"Sample Count\": 0.11612481315396114}, {\"Dataset\": \"Test\", \"Label\": \"DIAL_GLF\", \"Sample Count\": 0.1930119581464873}, {\"Dataset\": \"Test\", \"Label\": \"DIAL_LEV\", \"Sample Count\": 0.10519431988041854}, {\"Dataset\": \"Test\", \"Label\": \"MSA\", \"Sample Count\": 0.585668908819133}]}};\n",
              "      var embedOpt = {\"mode\": \"vega-lite\"};\n",
              "\n",
              "      function showError(el, error){\n",
              "          el.innerHTML = ('<div class=\"error\" style=\"color:red;\">'\n",
              "                          + '<p>JavaScript Error: ' + error.message + '</p>'\n",
              "                          + \"<p>This usually means there's a typo in your chart specification. \"\n",
              "                          + \"See the javascript console for the full traceback.</p>\"\n",
              "                          + '</div>');\n",
              "          throw error;\n",
              "      }\n",
              "      const el = document.getElementById('altair-viz');\n",
              "      vegaEmbed(\"#altair-viz\", spec, embedOpt)\n",
              "        .catch(error => showError(el, error));\n",
              "\n",
              "  </script>\n",
              "</body>\n",
              "</html>"
            ]
          },
          "metadata": {
            "tags": []
          },
          "execution_count": 9
        }
      ]
    },
    {
      "metadata": {
        "id": "6xBIOnfHLpLc",
        "colab_type": "code",
        "outputId": "37157c50-01b2-4984-dc73-183472101549",
        "colab": {
          "base_uri": "https://localhost:8080/",
          "height": 335
        }
      },
      "cell_type": "code",
      "source": [
        "plot_label_dist(pro_train_data, pro_val_data, pro_test_data)"
      ],
      "execution_count": 0,
      "outputs": [
        {
          "output_type": "display_data",
          "data": {
            "image/png": "[encoded data removed]",
            "text/plain": [
              "<matplotlib.figure.Figure at 0x7feda5b91390>"
            ]
          },
          "metadata": {
            "tags": []
          }
        }
      ]
    },
    {
      "metadata": {
        "id": "eFcgVbLpGj6y",
        "colab_type": "code",
        "outputId": "d51b2382-3dab-46d4-e83e-6491f1a815a7",
        "colab": {
          "base_uri": "https://localhost:8080/",
          "height": 204
        }
      },
      "cell_type": "code",
      "source": [
        "pro_train_breakdown = pandas_class_breakdown(pro_train_data)\n",
        "pro_val_breakdown = pandas_class_breakdown(pro_val_data)\n",
        "pro_test_breakdown = pandas_class_breakdown(pro_test_data)\n",
        "pro_breakdowns = (pro_train_breakdown, pro_val_breakdown, pro_test_breakdown)\n",
        "pro_dataset_breakdowns = pd.concat(pro_breakdowns, 1, \n",
        "                                   keys=['Train', 'Val', 'Test'])\n",
        "total = pd.Series(pro_dataset_breakdowns.sum(), name='Total')\n",
        "pro_total_dataset_breakdowns = pro_dataset_breakdowns.T.join(total).T\n",
        "pro_total_dataset_breakdowns"
      ],
      "execution_count": 0,
      "outputs": [
        {
          "output_type": "execute_result",
          "data": {
            "text/html": [
              "<div>\n",
              "<style scoped>\n",
              "    .dataframe tbody tr th:only-of-type {\n",
              "        vertical-align: middle;\n",
              "    }\n",
              "\n",
              "    .dataframe tbody tr th {\n",
              "        vertical-align: top;\n",
              "    }\n",
              "\n",
              "    .dataframe thead th {\n",
              "        text-align: right;\n",
              "    }\n",
              "</style>\n",
              "<table border=\"1\" class=\"dataframe\">\n",
              "  <thead>\n",
              "    <tr style=\"text-align: right;\">\n",
              "      <th></th>\n",
              "      <th>Train</th>\n",
              "      <th>Val</th>\n",
              "      <th>Test</th>\n",
              "    </tr>\n",
              "  </thead>\n",
              "  <tbody>\n",
              "    <tr>\n",
              "      <th>DIAL_EGY</th>\n",
              "      <td>9970</td>\n",
              "      <td>1252</td>\n",
              "      <td>1243</td>\n",
              "    </tr>\n",
              "    <tr>\n",
              "      <th>DIAL_GLF</th>\n",
              "      <td>16494</td>\n",
              "      <td>2069</td>\n",
              "      <td>2066</td>\n",
              "    </tr>\n",
              "    <tr>\n",
              "      <th>DIAL_LEV</th>\n",
              "      <td>9041</td>\n",
              "      <td>1130</td>\n",
              "      <td>1126</td>\n",
              "    </tr>\n",
              "    <tr>\n",
              "      <th>MSA</th>\n",
              "      <td>50153</td>\n",
              "      <td>6229</td>\n",
              "      <td>6269</td>\n",
              "    </tr>\n",
              "    <tr>\n",
              "      <th>Total</th>\n",
              "      <td>85658</td>\n",
              "      <td>10680</td>\n",
              "      <td>10704</td>\n",
              "    </tr>\n",
              "  </tbody>\n",
              "</table>\n",
              "</div>"
            ],
            "text/plain": [
              "          Train    Val   Test\n",
              "DIAL_EGY   9970   1252   1243\n",
              "DIAL_GLF  16494   2069   2066\n",
              "DIAL_LEV   9041   1130   1126\n",
              "MSA       50153   6229   6269\n",
              "Total     85658  10680  10704"
            ]
          },
          "metadata": {
            "tags": []
          },
          "execution_count": 11
        }
      ]
    },
    {
      "metadata": {
        "id": "0Xc5Rl0gHvNH",
        "colab_type": "text"
      },
      "cell_type": "markdown",
      "source": [
        "From the above we cannot see much difference between the removed and the original, however below we show the difference from the original and the removed. From the table below we can see that the class that is affected the most is the MSA class which is expected as this is the majority class. However only around 1% of the data is affected, but this new removed dataset is the dataset that we shall use for all of our experiments.\n",
        "\n",
        "In Two cells below we can see easier how the different label distribution are affected by this pre-processing step. Even though MSA is the largest class and is expected to be affected by this the most compared to the normal distribution of the MSA class in the datasets it is affected more than expected, espically in the validation set."
      ]
    },
    {
      "metadata": {
        "id": "fq5GPguHHCC-",
        "colab_type": "code",
        "outputId": "79956c15-7ce8-400a-beab-ff206453d93b",
        "colab": {
          "base_uri": "https://localhost:8080/",
          "height": 204
        }
      },
      "cell_type": "code",
      "source": [
        "total_dataset_breakdowns - pro_total_dataset_breakdowns"
      ],
      "execution_count": 0,
      "outputs": [
        {
          "output_type": "execute_result",
          "data": {
            "text/html": [
              "<div>\n",
              "<style scoped>\n",
              "    .dataframe tbody tr th:only-of-type {\n",
              "        vertical-align: middle;\n",
              "    }\n",
              "\n",
              "    .dataframe tbody tr th {\n",
              "        vertical-align: top;\n",
              "    }\n",
              "\n",
              "    .dataframe thead th {\n",
              "        text-align: right;\n",
              "    }\n",
              "</style>\n",
              "<table border=\"1\" class=\"dataframe\">\n",
              "  <thead>\n",
              "    <tr style=\"text-align: right;\">\n",
              "      <th></th>\n",
              "      <th>Train</th>\n",
              "      <th>Val</th>\n",
              "      <th>Test</th>\n",
              "    </tr>\n",
              "  </thead>\n",
              "  <tbody>\n",
              "    <tr>\n",
              "      <th>DIAL_EGY</th>\n",
              "      <td>52</td>\n",
              "      <td>1</td>\n",
              "      <td>9</td>\n",
              "    </tr>\n",
              "    <tr>\n",
              "      <th>DIAL_GLF</th>\n",
              "      <td>99</td>\n",
              "      <td>6</td>\n",
              "      <td>7</td>\n",
              "    </tr>\n",
              "    <tr>\n",
              "      <th>DIAL_LEV</th>\n",
              "      <td>40</td>\n",
              "      <td>6</td>\n",
              "      <td>7</td>\n",
              "    </tr>\n",
              "    <tr>\n",
              "      <th>MSA</th>\n",
              "      <td>692</td>\n",
              "      <td>127</td>\n",
              "      <td>85</td>\n",
              "    </tr>\n",
              "    <tr>\n",
              "      <th>Total</th>\n",
              "      <td>883</td>\n",
              "      <td>140</td>\n",
              "      <td>108</td>\n",
              "    </tr>\n",
              "  </tbody>\n",
              "</table>\n",
              "</div>"
            ],
            "text/plain": [
              "          Train  Val  Test\n",
              "DIAL_EGY     52    1     9\n",
              "DIAL_GLF     99    6     7\n",
              "DIAL_LEV     40    6     7\n",
              "MSA         692  127    85\n",
              "Total       883  140   108"
            ]
          },
          "metadata": {
            "tags": []
          },
          "execution_count": 12
        }
      ]
    },
    {
      "metadata": {
        "id": "aoe0wRYnpCcp",
        "colab_type": "code",
        "outputId": "8c29acbe-85e1-49f2-aa91-9f4fa066aba5",
        "colab": {
          "base_uri": "https://localhost:8080/",
          "height": 405
        }
      },
      "cell_type": "code",
      "source": [
        "diff_breakdown = data_breakdown.copy()\n",
        "diff_breakdown['Sample Count'] = (data_breakdown['Sample Count'] - \n",
        "                                  pro_data_breakdown['Sample Count'])\n",
        "diff_breakdown\n",
        "norm_diff_breakdown = alt_norm_break(diff_breakdown)\n",
        "\n",
        "diff_title = 'Difference in Label Distribution between Non and Processed'\n",
        "diff_label_chart = create_label_chart(diff_breakdown)\\\n",
        "                  .properties(height=300, width=200, title=diff_title)\n",
        "\n",
        "norm_diff_label_chart = create_label_chart(norm_diff_breakdown)\\\n",
        "                       .properties(height=300, width=200, \n",
        "                                   title='Normalised ' + diff_title)\n",
        "diff_label_chart | norm_diff_label_chart"
      ],
      "execution_count": 0,
      "outputs": [
        {
          "output_type": "execute_result",
          "data": {
            "text/plain": [
              "HConcatChart({\n",
              "  hconcat: [Chart({\n",
              "    data:    Dataset     Label  Sample Count\n",
              "    0    Train       MSA           692\n",
              "    1    Train  DIAL_LEV            40\n",
              "    2    Train  DIAL_GLF            99\n",
              "    3    Train  DIAL_EGY            52\n",
              "    4      Val  DIAL_EGY             1\n",
              "    5      Val  DIAL_GLF             6\n",
              "    6      Val  DIAL_LEV             6\n",
              "    7      Val       MSA           127\n",
              "    8     Test  DIAL_EGY             9\n",
              "    9     Test  DIAL_GLF             7\n",
              "    10    Test  DIAL_LEV             7\n",
              "    11    Test       MSA            85,\n",
              "    encoding: EncodingWithFacet({\n",
              "      color: Color({\n",
              "        shorthand: 'Label'\n",
              "      }),\n",
              "      tooltip: [Tooltip({\n",
              "        shorthand: 'Sample Count'\n",
              "      }), Tooltip({\n",
              "        shorthand: 'Label'\n",
              "      })],\n",
              "      x: X({\n",
              "        shorthand: 'Dataset',\n",
              "        sort: ['Train', 'Val', 'Test']\n",
              "      }),\n",
              "      y: Y({\n",
              "        shorthand: 'Sample Count'\n",
              "      })\n",
              "    }),\n",
              "    height: 300,\n",
              "    mark: 'bar',\n",
              "    selection: SelectionMapping({\n",
              "      selector005: SelectionDef({\n",
              "        bind: 'scales',\n",
              "        encodings: ['x', 'y'],\n",
              "        type: 'interval'\n",
              "      })\n",
              "    }),\n",
              "    title: 'Difference in Label Distribution between Non and Processed',\n",
              "    width: 200\n",
              "  }), Chart({\n",
              "    data:    Dataset     Label  Sample Count\n",
              "    0    Train       MSA      0.783692\n",
              "    1    Train  DIAL_LEV      0.045300\n",
              "    2    Train  DIAL_GLF      0.112118\n",
              "    3    Train  DIAL_EGY      0.058890\n",
              "    4      Val  DIAL_EGY      0.007143\n",
              "    5      Val  DIAL_GLF      0.042857\n",
              "    6      Val  DIAL_LEV      0.042857\n",
              "    7      Val       MSA      0.907143\n",
              "    8     Test  DIAL_EGY      0.083333\n",
              "    9     Test  DIAL_GLF      0.064815\n",
              "    10    Test  DIAL_LEV      0.064815\n",
              "    11    Test       MSA      0.787037,\n",
              "    encoding: EncodingWithFacet({\n",
              "      color: Color({\n",
              "        shorthand: 'Label'\n",
              "      }),\n",
              "      tooltip: [Tooltip({\n",
              "        shorthand: 'Sample Count'\n",
              "      }), Tooltip({\n",
              "        shorthand: 'Label'\n",
              "      })],\n",
              "      x: X({\n",
              "        shorthand: 'Dataset',\n",
              "        sort: ['Train', 'Val', 'Test']\n",
              "      }),\n",
              "      y: Y({\n",
              "        shorthand: 'Sample Count'\n",
              "      })\n",
              "    }),\n",
              "    height: 300,\n",
              "    mark: 'bar',\n",
              "    selection: SelectionMapping({\n",
              "      selector006: SelectionDef({\n",
              "        bind: 'scales',\n",
              "        encodings: ['x', 'y'],\n",
              "        type: 'interval'\n",
              "      })\n",
              "    }),\n",
              "    title: 'Normalised Difference in Label Distribution between Non and Processed',\n",
              "    width: 200\n",
              "  })]\n",
              "})"
            ],
            "text/html": [
              "<!DOCTYPE html>\n",
              "<html>\n",
              "<head>\n",
              "  <style>\n",
              "    .vega-actions a {\n",
              "        margin-right: 12px;\n",
              "        color: #757575;\n",
              "        font-weight: normal;\n",
              "        font-size: 13px;\n",
              "    }\n",
              "    .error {\n",
              "        color: red;\n",
              "    }\n",
              "  </style>\n",
              "  <script type=\"text/javascript\" src=\"https://cdn.jsdelivr.net/npm//vega@4\"></script>\n",
              "  <script type=\"text/javascript\" src=\"https://cdn.jsdelivr.net/npm//vega-lite@2.6.0\"></script>\n",
              "  <script type=\"text/javascript\" src=\"https://cdn.jsdelivr.net/npm//vega-embed@3\"></script>\n",
              "</head>\n",
              "<body>\n",
              "  <div id=\"altair-viz\"></div>\n",
              "  <script>\n",
              "      var spec = {\"config\": {\"view\": {\"width\": 400, \"height\": 300}}, \"hconcat\": [{\"data\": {\"name\": \"data-4d8e39cebed97e8133b37b3944964b34\"}, \"mark\": \"bar\", \"encoding\": {\"color\": {\"type\": \"nominal\", \"field\": \"Label\"}, \"tooltip\": [{\"type\": \"quantitative\", \"field\": \"Sample Count\"}, {\"type\": \"nominal\", \"field\": \"Label\"}], \"x\": {\"type\": \"nominal\", \"field\": \"Dataset\", \"sort\": [\"Train\", \"Val\", \"Test\"]}, \"y\": {\"type\": \"quantitative\", \"field\": \"Sample Count\"}}, \"height\": 300, \"selection\": {\"selector005\": {\"type\": \"interval\", \"bind\": \"scales\", \"encodings\": [\"x\", \"y\"]}}, \"title\": \"Difference in Label Distribution between Non and Processed\", \"width\": 200}, {\"data\": {\"name\": \"data-bb9fa0e633e7d106f9932143059b1981\"}, \"mark\": \"bar\", \"encoding\": {\"color\": {\"type\": \"nominal\", \"field\": \"Label\"}, \"tooltip\": [{\"type\": \"quantitative\", \"field\": \"Sample Count\"}, {\"type\": \"nominal\", \"field\": \"Label\"}], \"x\": {\"type\": \"nominal\", \"field\": \"Dataset\", \"sort\": [\"Train\", \"Val\", \"Test\"]}, \"y\": {\"type\": \"quantitative\", \"field\": \"Sample Count\"}}, \"height\": 300, \"selection\": {\"selector006\": {\"type\": \"interval\", \"bind\": \"scales\", \"encodings\": [\"x\", \"y\"]}}, \"title\": \"Normalised Difference in Label Distribution between Non and Processed\", \"width\": 200}], \"$schema\": \"https://vega.github.io/schema/vega-lite/v2.6.0.json\", \"datasets\": {\"data-4d8e39cebed97e8133b37b3944964b34\": [{\"Dataset\": \"Train\", \"Label\": \"MSA\", \"Sample Count\": 692}, {\"Dataset\": \"Train\", \"Label\": \"DIAL_LEV\", \"Sample Count\": 40}, {\"Dataset\": \"Train\", \"Label\": \"DIAL_GLF\", \"Sample Count\": 99}, {\"Dataset\": \"Train\", \"Label\": \"DIAL_EGY\", \"Sample Count\": 52}, {\"Dataset\": \"Val\", \"Label\": \"DIAL_EGY\", \"Sample Count\": 1}, {\"Dataset\": \"Val\", \"Label\": \"DIAL_GLF\", \"Sample Count\": 6}, {\"Dataset\": \"Val\", \"Label\": \"DIAL_LEV\", \"Sample Count\": 6}, {\"Dataset\": \"Val\", \"Label\": \"MSA\", \"Sample Count\": 127}, {\"Dataset\": \"Test\", \"Label\": \"DIAL_EGY\", \"Sample Count\": 9}, {\"Dataset\": \"Test\", \"Label\": \"DIAL_GLF\", \"Sample Count\": 7}, {\"Dataset\": \"Test\", \"Label\": \"DIAL_LEV\", \"Sample Count\": 7}, {\"Dataset\": \"Test\", \"Label\": \"MSA\", \"Sample Count\": 85}], \"data-bb9fa0e633e7d106f9932143059b1981\": [{\"Dataset\": \"Train\", \"Label\": \"MSA\", \"Sample Count\": 0.7836919592298981}, {\"Dataset\": \"Train\", \"Label\": \"DIAL_LEV\", \"Sample Count\": 0.045300113250283124}, {\"Dataset\": \"Train\", \"Label\": \"DIAL_GLF\", \"Sample Count\": 0.11211778029445074}, {\"Dataset\": \"Train\", \"Label\": \"DIAL_EGY\", \"Sample Count\": 0.05889014722536806}, {\"Dataset\": \"Val\", \"Label\": \"DIAL_EGY\", \"Sample Count\": 0.007142857142857143}, {\"Dataset\": \"Val\", \"Label\": \"DIAL_GLF\", \"Sample Count\": 0.04285714285714286}, {\"Dataset\": \"Val\", \"Label\": \"DIAL_LEV\", \"Sample Count\": 0.04285714285714286}, {\"Dataset\": \"Val\", \"Label\": \"MSA\", \"Sample Count\": 0.9071428571428571}, {\"Dataset\": \"Test\", \"Label\": \"DIAL_EGY\", \"Sample Count\": 0.08333333333333333}, {\"Dataset\": \"Test\", \"Label\": \"DIAL_GLF\", \"Sample Count\": 0.06481481481481481}, {\"Dataset\": \"Test\", \"Label\": \"DIAL_LEV\", \"Sample Count\": 0.06481481481481481}, {\"Dataset\": \"Test\", \"Label\": \"MSA\", \"Sample Count\": 0.7870370370370371}]}};\n",
              "      var embedOpt = {\"mode\": \"vega-lite\"};\n",
              "\n",
              "      function showError(el, error){\n",
              "          el.innerHTML = ('<div class=\"error\" style=\"color:red;\">'\n",
              "                          + '<p>JavaScript Error: ' + error.message + '</p>'\n",
              "                          + \"<p>This usually means there's a typo in your chart specification. \"\n",
              "                          + \"See the javascript console for the full traceback.</p>\"\n",
              "                          + '</div>');\n",
              "          throw error;\n",
              "      }\n",
              "      const el = document.getElementById('altair-viz');\n",
              "      vegaEmbed(\"#altair-viz\", spec, embedOpt)\n",
              "        .catch(error => showError(el, error));\n",
              "\n",
              "  </script>\n",
              "</body>\n",
              "</html>"
            ]
          },
          "metadata": {
            "tags": []
          },
          "execution_count": 13
        }
      ]
    },
    {
      "metadata": {
        "id": "rQe2oWXzpEKO",
        "colab_type": "code",
        "colab": {}
      },
      "cell_type": "code",
      "source": [
        ""
      ],
      "execution_count": 0,
      "outputs": []
    }
  ]
}